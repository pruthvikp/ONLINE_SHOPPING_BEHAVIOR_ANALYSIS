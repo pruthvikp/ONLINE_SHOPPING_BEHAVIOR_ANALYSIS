{
 "cells": [
  {
   "cell_type": "markdown",
   "id": "53672072",
   "metadata": {},
   "source": [
    "# Random Forest Classifier"
   ]
  },
  {
   "cell_type": "markdown",
   "id": "f7e9ad3a",
   "metadata": {},
   "source": [
    "# Step 1: Import Libraries"
   ]
  },
  {
   "cell_type": "code",
   "execution_count": 1,
   "id": "216a313c",
   "metadata": {},
   "outputs": [],
   "source": [
    "import pandas as pd\n",
    "from sklearn.model_selection import train_test_split\n",
    "from sklearn.preprocessing import LabelEncoder, StandardScaler"
   ]
  },
  {
   "cell_type": "markdown",
   "id": "bc43c025",
   "metadata": {},
   "source": [
    "# Step 2: Load the data"
   ]
  },
  {
   "cell_type": "code",
   "execution_count": 2,
   "id": "90ee7839",
   "metadata": {},
   "outputs": [],
   "source": [
    "data_path = 'activity_data.csv'\n",
    "data = pd.read_csv(data_path)"
   ]
  },
  {
   "cell_type": "markdown",
   "id": "99cd10b2",
   "metadata": {},
   "source": [
    "# Step 3: Preprocess the data"
   ]
  },
  {
   "cell_type": "code",
   "execution_count": 3,
   "id": "d60f9bac",
   "metadata": {},
   "outputs": [],
   "source": [
    "def preprocess_data(data):\n",
    "    # Convert categorical columns to numeric\n",
    "    label_encoders = {}\n",
    "    for column in ['Month', 'VisitorType']:\n",
    "        label_encoders[column] = LabelEncoder()\n",
    "        data[column] = label_encoders[column].fit_transform(data[column])\n",
    "    \n",
    "    # Convert boolean columns to numeric\n",
    "    data['Weekend'] = data['Weekend'].astype(int)\n",
    "    data['Revenue'] = data['Revenue'].astype(int)\n",
    "    \n",
    "    # Split data into features and target\n",
    "    X = data.drop('Revenue', axis=1)\n",
    "    y = data['Revenue']\n",
    "    \n",
    "    # Scale the features\n",
    "    scaler = StandardScaler()\n",
    "    X = scaler.fit_transform(X)\n",
    "    \n",
    "    return X, y\n",
    "\n",
    "X, y = preprocess_data(data)"
   ]
  },
  {
   "cell_type": "markdown",
   "id": "ade0762d",
   "metadata": {},
   "source": [
    "# Step 4: Split Data into Training and Testing Sets"
   ]
  },
  {
   "cell_type": "code",
   "execution_count": 4,
   "id": "5d1f838b",
   "metadata": {},
   "outputs": [],
   "source": [
    "X_train, X_test, y_train, y_test = train_test_split(X, y, test_size=0.2, random_state=42)"
   ]
  },
  {
   "cell_type": "markdown",
   "id": "0abcf413",
   "metadata": {},
   "source": [
    "# Step 5: Train the Model and Make Predictions"
   ]
  },
  {
   "cell_type": "code",
   "execution_count": 5,
   "id": "a5d9da26",
   "metadata": {},
   "outputs": [],
   "source": [
    "from sklearn.ensemble import RandomForestClassifier\n",
    "\n",
    "# Train Random Forest model\n",
    "forest_model = RandomForestClassifier(random_state=42)\n",
    "forest_model.fit(X_train, y_train)\n",
    "\n",
    "# Make predictions\n",
    "forest_predictions = forest_model.predict(X_test)"
   ]
  },
  {
   "cell_type": "markdown",
   "id": "f981a6a0",
   "metadata": {},
   "source": [
    "# Step 6: Evaluate the model"
   ]
  },
  {
   "cell_type": "code",
   "execution_count": 6,
   "id": "ab6a4cb7",
   "metadata": {},
   "outputs": [
    {
     "name": "stdout",
     "output_type": "stream",
     "text": [
      "Evaluation of Random Forest:\n",
      "Accuracy: 0.8957826439578265\n",
      "Classification Report:\n",
      "               precision    recall  f1-score   support\n",
      "\n",
      "           0       0.91      0.97      0.94      2055\n",
      "           1       0.76      0.55      0.64       411\n",
      "\n",
      "    accuracy                           0.90      2466\n",
      "   macro avg       0.84      0.76      0.79      2466\n",
      "weighted avg       0.89      0.90      0.89      2466\n",
      "\n",
      "--------------------------------------------------------------------------------\n"
     ]
    }
   ],
   "source": [
    "from sklearn.metrics import classification_report, accuracy_score, confusion_matrix\n",
    "\n",
    "# Define an evaluation function\n",
    "def evaluate_model(y_true, y_pred, model_name):\n",
    "    print(f\"Evaluation of {model_name}:\")\n",
    "    print(\"Accuracy:\", accuracy_score(y_true, y_pred))\n",
    "    print(\"Classification Report:\\n\", classification_report(y_true, y_pred))\n",
    "    print(\"-\" * 80)\n",
    "\n",
    "# Evaluate Random Forest model\n",
    "evaluate_model(y_test, forest_predictions, \"Random Forest\")"
   ]
  },
  {
   "cell_type": "markdown",
   "id": "ea2a7fb8",
   "metadata": {},
   "source": [
    "# Step 7: Visualizing Results"
   ]
  },
  {
   "cell_type": "code",
   "execution_count": 7,
   "id": "b3d262ce",
   "metadata": {},
   "outputs": [
    {
     "data": {
      "image/png": "[encoded data removed]",
      "text/plain": [
       "<Figure size 1000x600 with 1 Axes>"
      ]
     },
     "metadata": {},
     "output_type": "display_data"
    }
   ],
   "source": [
    "import matplotlib.pyplot as plt\n",
    "import numpy as np\n",
    "\n",
    "# Define function to plot metrics\n",
    "def plot_metrics(model_names, accuracy, precision, recall, f1_score):\n",
    "    metrics = ['Accuracy', 'Precision', 'Recall', 'F1-score']\n",
    "    x = np.arange(len(model_names))  # the label locations\n",
    "    width = 0.2  # the width of the bars\n",
    "\n",
    "    fig, ax = plt.subplots(figsize=(10, 6))\n",
    "    rects1 = ax.bar(x - width, accuracy, width, label='Accuracy')\n",
    "    rects2 = ax.bar(x, precision, width, label='Precision')\n",
    "    rects3 = ax.bar(x + width, recall, width, label='Recall')\n",
    "    rects4 = ax.bar(x + 2*width, f1_score, width, label='F1-score')\n",
    "\n",
    "    # Add some text for labels, title and custom x-axis tick labels, etc.\n",
    "    ax.set_ylabel('Scores')\n",
    "    ax.set_title('Model Performance Metrics')\n",
    "    ax.set_xticks(x)\n",
    "    ax.set_xticklabels(model_names)\n",
    "    ax.legend()\n",
    "\n",
    "    def autolabel(rects):\n",
    "        \"\"\"Attach a text label above each bar in *rects*, displaying its height.\"\"\"\n",
    "        for rect in rects:\n",
    "            height = rect.get_height()\n",
    "            ax.annotate('{}'.format(round(height, 2)),\n",
    "                        xy=(rect.get_x() + rect.get_width() / 2, height),\n",
    "                        xytext=(0, 3),  # 3 points vertical offset\n",
    "                        textcoords=\"offset points\",\n",
    "                        ha='center', va='bottom')\n",
    "\n",
    "    autolabel(rects1)\n",
    "    autolabel(rects2)\n",
    "    autolabel(rects3)\n",
    "    autolabel(rects4)\n",
    "\n",
    "    fig.tight_layout()\n",
    "\n",
    "    plt.show()\n",
    "\n",
    "# Calculate metrics for Random Forest\n",
    "accuracy_rf = accuracy_score(y_test, forest_predictions)\n",
    "precision_rf = classification_report(y_test, forest_predictions, output_dict=True)['1']['precision']\n",
    "recall_rf = classification_report(y_test, forest_predictions, output_dict=True)['1']['recall']\n",
    "f1_score_rf = classification_report(y_test, forest_predictions, output_dict=True)['1']['f1-score']\n",
    "\n",
    "# Plot metrics\n",
    "plot_metrics(['Random Forest'], [accuracy_rf], [precision_rf], [recall_rf], [f1_score_rf])\n"
   ]
  }
 ],
 "metadata": {
  "kernelspec": {
   "display_name": "Python 3 (ipykernel)",
   "language": "python",
   "name": "python3"
  },
  "language_info": {
   "codemirror_mode": {
    "name": "ipython",
    "version": 3
   },
   "file_extension": ".py",
   "mimetype": "text/x-python",
   "name": "python",
   "nbconvert_exporter": "python",
   "pygments_lexer": "ipython3",
   "version": "3.11.5"
  }
 },
 "nbformat": 4,
 "nbformat_minor": 5
}
